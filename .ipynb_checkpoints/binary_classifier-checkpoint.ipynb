{
 "cells": [
  {
   "cell_type": "code",
   "execution_count": null,
   "id": "06332ae6",
   "metadata": {},
   "outputs": [],
   "source": [
    "from tensorflow.keras.layers import Input, Lambda, Dense, Flatten,Dropout\n",
    "from tensorflow.keras.models import Model\n",
    "from tensorflow.keras.applications.vgg19 import VGG19\n",
    "from tensorflow.keras.applications.vgg19 import preprocess_input\n",
    "from tensorflow.keras.preprocessing import image\n",
    "from tensorflow.keras.preprocessing.image import ImageDataGenerator\n",
    "from tensorflow.keras.models import Sequential\n",
    "import numpy as np\n",
    "import pandas as pd\n",
    "import os\n",
    "import cv2\n",
    "import matplotlib.pyplot as plt"
   ]
  },
  {
   "cell_type": "code",
   "execution_count": null,
   "id": "f4e7bcf7",
   "metadata": {},
   "outputs": [],
   "source": [
    "train_path=\"data/dv/train\"\n",
    "test_path=\"data/dv/test\"\n",
    "val_path=\"data/dv/val\""
   ]
  },
  {
   "cell_type": "code",
   "execution_count": null,
   "id": "725f145b",
   "metadata": {},
   "outputs": [],
   "source": [
    "# Image preprocessing using VGG-19 model\n",
    "\n",
    "# resize images to 224x224 and store in array\n",
    "\n",
    "x_train=[]\n",
    "for folder in os.listdir(train_path):\n",
    "    if (folder != \".DS_Store\"):\n",
    "        sub_path=train_path+\"/\"+folder\n",
    "        for img in os.listdir(sub_path):\n",
    "            image_path=sub_path+\"/\"+img\n",
    "            img_arr=cv2.imread(image_path)\n",
    "            if img_arr is None:\n",
    "                continue\n",
    "            else:\n",
    "                img_arr=cv2.resize(img_arr,(224,224))\n",
    "                x_train.append(img_arr)\n",
    "\n",
    "x_test=[]\n",
    "for folder in os.listdir(test_path):\n",
    "    if (folder != \".DS_Store\"):\n",
    "        sub_path=test_path+\"/\"+folder\n",
    "        for img in os.listdir(sub_path):\n",
    "            image_path=sub_path+\"/\"+img\n",
    "            img_arr=cv2.imread(image_path)\n",
    "            if img_arr is None:\n",
    "                continue\n",
    "            else:\n",
    "                img_arr=cv2.resize(img_arr,(224,224))\n",
    "                x_test.append(img_arr)\n",
    "                \n",
    "x_val=[]\n",
    "for folder in os.listdir(val_path):\n",
    "    if (folder != \".DS_Store\"):\n",
    "        sub_path=val_path+\"/\"+folder\n",
    "        for img in os.listdir(sub_path):\n",
    "            image_path=sub_path+\"/\"+img\n",
    "            img_arr=cv2.imread(image_path)\n",
    "            if img_arr is None:\n",
    "                continue\n",
    "            else:\n",
    "                img_arr=cv2.resize(img_arr,(224,224))\n",
    "                x_val.append(img_arr)\n",
    "                "
   ]
  },
  {
   "cell_type": "code",
   "execution_count": null,
   "id": "4a455f04",
   "metadata": {},
   "outputs": [],
   "source": [
    "# divide by 255 to normalize\n",
    "train_x=np.array(x_train)/255.0\n",
    "test_x=np.array(x_test)/255.0\n",
    "val_x=np.array(x_val)/255.0\n"
   ]
  },
  {
   "cell_type": "code",
   "execution_count": null,
   "id": "5586047a",
   "metadata": {},
   "outputs": [],
   "source": [
    "# Compute labels of corresponding datasets\n",
    "train_datagen = ImageDataGenerator(rescale = 1./255)\n",
    "test_datagen = ImageDataGenerator(rescale = 1./255)\n",
    "val_datagen = ImageDataGenerator(rescale = 1./255)\n",
    "\n",
    "# generate batches of augmented data\n",
    "training_set = train_datagen.flow_from_directory(train_path,\n",
    "                                                 target_size = (224, 224),\n",
    "                                                 batch_size = 32,\n",
    "                                                 class_mode = 'sparse')\n",
    "test_set = test_datagen.flow_from_directory(test_path,\n",
    "                                            target_size = (224, 224),\n",
    "                                            batch_size = 32,\n",
    "                                            class_mode = 'sparse')\n",
    "val_set = val_datagen.flow_from_directory(val_path,\n",
    "                                            target_size = (224, 224),\n",
    "                                            batch_size = 32,\n",
    "                                            class_mode = 'sparse')"
   ]
  },
  {
   "cell_type": "code",
   "execution_count": null,
   "id": "8c46a051",
   "metadata": {},
   "outputs": [],
   "source": [
    "train_y=training_set.classes\n",
    "test_y=test_set.classes\n",
    "val_y=val_set.classes"
   ]
  },
  {
   "cell_type": "code",
   "execution_count": null,
   "id": "accee4ee",
   "metadata": {},
   "outputs": [],
   "source": [
    "training_set.class_indices\n",
    "train_y.shape,test_y.shape,val_y.shape"
   ]
  },
  {
   "cell_type": "code",
   "execution_count": null,
   "id": "10bd35d1",
   "metadata": {},
   "outputs": [],
   "source": [
    "# Model Building\n",
    "vgg = VGG19(input_shape=(224, 224, 3), weights='imagenet', include_top=False)\n",
    "\n",
    "# We will not train the pre-trained layers\n",
    "for layer in vgg.layers:\n",
    "    layer.trainable = False"
   ]
  },
  {
   "cell_type": "code",
   "execution_count": null,
   "id": "06551204",
   "metadata": {},
   "outputs": [],
   "source": [
    "x = Flatten()(vgg.output)\n",
    "#adding output layer.Softmax classifier is used as it is multi-class classification\n",
    "prediction = Dense(3, activation='softmax')(x)\n",
    "\n",
    "model = Model(inputs=vgg.input, outputs=prediction)\n",
    "model.summary()"
   ]
  },
  {
   "cell_type": "code",
   "execution_count": null,
   "id": "35c36890",
   "metadata": {},
   "outputs": [],
   "source": [
    "# Compile the model\n",
    "model.compile(\n",
    "  loss='sparse_categorical_crossentropy',\n",
    "  optimizer=\"adam\",\n",
    "  metrics=['accuracy']\n",
    ")"
   ]
  },
  {
   "cell_type": "code",
   "execution_count": null,
   "id": "f60257df",
   "metadata": {},
   "outputs": [],
   "source": [
    "# Fit the model\n",
    "\n",
    "# To avoid overfitting, we will do an early stop if the loss substantially increases\n",
    "from tensorflow.keras.callbacks import EarlyStopping\n",
    "early_stop=EarlyStopping(monitor='val_loss',mode='min',verbose=1,patience=5)\n",
    "\n",
    "train_y = train_y[1: len(train_y) - 1]\n",
    "\n",
    "# fit the model\n",
    "history = model.fit(\n",
    "  train_x,\n",
    "  train_y,\n",
    "  validation_data=(val_x,val_y),\n",
    "  epochs=10,\n",
    "  callbacks=[early_stop],\n",
    "  batch_size=32,shuffle=True)"
   ]
  },
  {
   "cell_type": "code",
   "execution_count": null,
   "id": "d24b7b6f",
   "metadata": {},
   "outputs": [],
   "source": []
  }
 ],
 "metadata": {
  "kernelspec": {
   "display_name": "Python 3 (ipykernel)",
   "language": "python",
   "name": "python3"
  },
  "language_info": {
   "codemirror_mode": {
    "name": "ipython",
    "version": 3
   },
   "file_extension": ".py",
   "mimetype": "text/x-python",
   "name": "python",
   "nbconvert_exporter": "python",
   "pygments_lexer": "ipython3",
   "version": "3.8.2"
  }
 },
 "nbformat": 4,
 "nbformat_minor": 5
}
