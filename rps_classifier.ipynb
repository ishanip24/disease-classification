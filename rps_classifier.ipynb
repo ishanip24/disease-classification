{
 "cells": [
  {
   "cell_type": "code",
   "execution_count": 1,
   "id": "06332ae6",
   "metadata": {},
   "outputs": [],
   "source": [
    "from tensorflow.keras.layers import Input, Lambda, Dense, Flatten,Dropout\n",
    "from tensorflow.keras.models import Model\n",
    "from tensorflow.keras.applications.vgg19 import VGG19\n",
    "from tensorflow.keras.applications.vgg19 import preprocess_input\n",
    "from tensorflow.keras.preprocessing import image\n",
    "from tensorflow.keras.preprocessing.image import ImageDataGenerator\n",
    "from tensorflow.keras.models import Sequential\n",
    "import numpy as np\n",
    "import pandas as pd\n",
    "import os\n",
    "import cv2\n",
    "import matplotlib.pyplot as plt"
   ]
  },
  {
   "cell_type": "code",
   "execution_count": 2,
   "id": "f4e7bcf7",
   "metadata": {},
   "outputs": [],
   "source": [
    "train_path=\"data/rps_data/train\"\n",
    "test_path=\"data/rps_data/test\"\n",
    "val_path=\"data/rps_data/val\""
   ]
  },
  {
   "cell_type": "code",
   "execution_count": 3,
   "id": "725f145b",
   "metadata": {},
   "outputs": [],
   "source": [
    "# Image preprocessing using VGG-19 model\n",
    "\n",
    "# resize images to 224x224 and store in array\n",
    "\n",
    "x_train=[]\n",
    "for folder in os.listdir(train_path):\n",
    "    if (folder != \".DS_Store\"):\n",
    "        sub_path=train_path+\"/\"+folder\n",
    "        for img in os.listdir(sub_path):\n",
    "            image_path=sub_path+\"/\"+img\n",
    "            img_arr=cv2.imread(image_path)\n",
    "            if img_arr is None:\n",
    "                continue\n",
    "            else:\n",
    "                img_arr=cv2.resize(img_arr,(224,224))\n",
    "                x_train.append(img_arr)\n",
    "\n",
    "x_test=[]\n",
    "for folder in os.listdir(test_path):\n",
    "    if (folder != \".DS_Store\"):\n",
    "        sub_path=test_path+\"/\"+folder\n",
    "        for img in os.listdir(sub_path):\n",
    "            image_path=sub_path+\"/\"+img\n",
    "            img_arr=cv2.imread(image_path)\n",
    "            if img_arr is None:\n",
    "                continue\n",
    "            else:\n",
    "                img_arr=cv2.resize(img_arr,(224,224))\n",
    "                x_test.append(img_arr)\n",
    "                \n",
    "x_val=[]\n",
    "for folder in os.listdir(val_path):\n",
    "    if (folder != \".DS_Store\"):\n",
    "        sub_path=val_path+\"/\"+folder\n",
    "        for img in os.listdir(sub_path):\n",
    "            image_path=sub_path+\"/\"+img\n",
    "            img_arr=cv2.imread(image_path)\n",
    "            if img_arr is None:\n",
    "                continue\n",
    "            else:\n",
    "                img_arr=cv2.resize(img_arr,(224,224))\n",
    "                x_val.append(img_arr)\n",
    "                "
   ]
  },
  {
   "cell_type": "code",
   "execution_count": 4,
   "id": "4a455f04",
   "metadata": {},
   "outputs": [],
   "source": [
    "# divide by 255 to normalize\n",
    "train_x=np.array(x_train)/255.0\n",
    "test_x=np.array(x_test)/255.0\n",
    "val_x=np.array(x_val)/255.0\n"
   ]
  },
  {
   "cell_type": "code",
   "execution_count": 5,
   "id": "5586047a",
   "metadata": {},
   "outputs": [
    {
     "name": "stdout",
     "output_type": "stream",
     "text": [
      "Found 1261 images belonging to 3 classes.\n",
      "Found 525 images belonging to 3 classes.\n",
      "Found 402 images belonging to 3 classes.\n"
     ]
    }
   ],
   "source": [
    "# Compute labels of corresponding datasets\n",
    "train_datagen = ImageDataGenerator(rescale = 1./255)\n",
    "test_datagen = ImageDataGenerator(rescale = 1./255)\n",
    "val_datagen = ImageDataGenerator(rescale = 1./255)\n",
    "\n",
    "# generate batches of augmented data\n",
    "training_set = train_datagen.flow_from_directory(train_path,\n",
    "                                                 target_size = (224, 224),\n",
    "                                                 batch_size = 32,\n",
    "                                                 class_mode = 'sparse')\n",
    "test_set = test_datagen.flow_from_directory(test_path,\n",
    "                                            target_size = (224, 224),\n",
    "                                            batch_size = 32,\n",
    "                                            class_mode = 'sparse')\n",
    "val_set = val_datagen.flow_from_directory(val_path,\n",
    "                                            target_size = (224, 224),\n",
    "                                            batch_size = 32,\n",
    "                                            class_mode = 'sparse')"
   ]
  },
  {
   "cell_type": "code",
   "execution_count": 6,
   "id": "8c46a051",
   "metadata": {},
   "outputs": [],
   "source": [
    "train_y=training_set.classes\n",
    "test_y=test_set.classes\n",
    "val_y=val_set.classes"
   ]
  },
  {
   "cell_type": "code",
   "execution_count": 7,
   "id": "accee4ee",
   "metadata": {},
   "outputs": [
    {
     "data": {
      "text/plain": [
       "((1261,), (525,), (402,))"
      ]
     },
     "execution_count": 7,
     "metadata": {},
     "output_type": "execute_result"
    }
   ],
   "source": [
    "training_set.class_indices\n",
    "train_y.shape,test_y.shape,val_y.shape"
   ]
  },
  {
   "cell_type": "code",
   "execution_count": 8,
   "id": "10bd35d1",
   "metadata": {},
   "outputs": [
    {
     "name": "stderr",
     "output_type": "stream",
     "text": [
      "2022-02-22 18:42:18.445875: I tensorflow/core/platform/cpu_feature_guard.cc:142] This TensorFlow binary is optimized with oneAPI Deep Neural Network Library (oneDNN) to use the following CPU instructions in performance-critical operations:  AVX2 FMA\n",
      "To enable them in other operations, rebuild TensorFlow with the appropriate compiler flags.\n"
     ]
    }
   ],
   "source": [
    "# Model Building\n",
    "vgg = VGG19(input_shape=(224, 224, 3), weights='imagenet', include_top=False)\n",
    "\n",
    "# We will not train the pre-trained layers\n",
    "for layer in vgg.layers:\n",
    "    layer.trainable = False"
   ]
  },
  {
   "cell_type": "code",
   "execution_count": 9,
   "id": "06551204",
   "metadata": {},
   "outputs": [
    {
     "name": "stdout",
     "output_type": "stream",
     "text": [
      "Model: \"model\"\n",
      "_________________________________________________________________\n",
      "Layer (type)                 Output Shape              Param #   \n",
      "=================================================================\n",
      "input_1 (InputLayer)         [(None, 224, 224, 3)]     0         \n",
      "_________________________________________________________________\n",
      "block1_conv1 (Conv2D)        (None, 224, 224, 64)      1792      \n",
      "_________________________________________________________________\n",
      "block1_conv2 (Conv2D)        (None, 224, 224, 64)      36928     \n",
      "_________________________________________________________________\n",
      "block1_pool (MaxPooling2D)   (None, 112, 112, 64)      0         \n",
      "_________________________________________________________________\n",
      "block2_conv1 (Conv2D)        (None, 112, 112, 128)     73856     \n",
      "_________________________________________________________________\n",
      "block2_conv2 (Conv2D)        (None, 112, 112, 128)     147584    \n",
      "_________________________________________________________________\n",
      "block2_pool (MaxPooling2D)   (None, 56, 56, 128)       0         \n",
      "_________________________________________________________________\n",
      "block3_conv1 (Conv2D)        (None, 56, 56, 256)       295168    \n",
      "_________________________________________________________________\n",
      "block3_conv2 (Conv2D)        (None, 56, 56, 256)       590080    \n",
      "_________________________________________________________________\n",
      "block3_conv3 (Conv2D)        (None, 56, 56, 256)       590080    \n",
      "_________________________________________________________________\n",
      "block3_conv4 (Conv2D)        (None, 56, 56, 256)       590080    \n",
      "_________________________________________________________________\n",
      "block3_pool (MaxPooling2D)   (None, 28, 28, 256)       0         \n",
      "_________________________________________________________________\n",
      "block4_conv1 (Conv2D)        (None, 28, 28, 512)       1180160   \n",
      "_________________________________________________________________\n",
      "block4_conv2 (Conv2D)        (None, 28, 28, 512)       2359808   \n",
      "_________________________________________________________________\n",
      "block4_conv3 (Conv2D)        (None, 28, 28, 512)       2359808   \n",
      "_________________________________________________________________\n",
      "block4_conv4 (Conv2D)        (None, 28, 28, 512)       2359808   \n",
      "_________________________________________________________________\n",
      "block4_pool (MaxPooling2D)   (None, 14, 14, 512)       0         \n",
      "_________________________________________________________________\n",
      "block5_conv1 (Conv2D)        (None, 14, 14, 512)       2359808   \n",
      "_________________________________________________________________\n",
      "block5_conv2 (Conv2D)        (None, 14, 14, 512)       2359808   \n",
      "_________________________________________________________________\n",
      "block5_conv3 (Conv2D)        (None, 14, 14, 512)       2359808   \n",
      "_________________________________________________________________\n",
      "block5_conv4 (Conv2D)        (None, 14, 14, 512)       2359808   \n",
      "_________________________________________________________________\n",
      "block5_pool (MaxPooling2D)   (None, 7, 7, 512)         0         \n",
      "_________________________________________________________________\n",
      "flatten (Flatten)            (None, 25088)             0         \n",
      "_________________________________________________________________\n",
      "dense (Dense)                (None, 3)                 75267     \n",
      "=================================================================\n",
      "Total params: 20,099,651\n",
      "Trainable params: 75,267\n",
      "Non-trainable params: 20,024,384\n",
      "_________________________________________________________________\n"
     ]
    }
   ],
   "source": [
    "x = Flatten()(vgg.output)\n",
    "#adding output layer.Softmax classifier is used as it is multi-class classification\n",
    "prediction = Dense(3, activation='softmax')(x)\n",
    "\n",
    "model = Model(inputs=vgg.input, outputs=prediction)\n",
    "model.summary()"
   ]
  },
  {
   "cell_type": "code",
   "execution_count": 10,
   "id": "35c36890",
   "metadata": {},
   "outputs": [],
   "source": [
    "# Compile the model\n",
    "model.compile(\n",
    "  loss='sparse_categorical_crossentropy',\n",
    "  optimizer=\"adam\",\n",
    "  metrics=['accuracy']\n",
    ")"
   ]
  },
  {
   "cell_type": "code",
   "execution_count": 11,
   "id": "f60257df",
   "metadata": {},
   "outputs": [
    {
     "name": "stderr",
     "output_type": "stream",
     "text": [
      "2022-02-22 18:42:21.227284: I tensorflow/compiler/mlir/mlir_graph_optimization_pass.cc:185] None of the MLIR Optimization Passes are enabled (registered 2)\n"
     ]
    },
    {
     "name": "stdout",
     "output_type": "stream",
     "text": [
      "Epoch 1/10\n",
      "40/40 [==============================] - 325s 8s/step - loss: 0.5908 - accuracy: 0.8033 - val_loss: 0.8863 - val_accuracy: 0.8358\n",
      "Epoch 2/10\n",
      "40/40 [==============================] - 279s 7s/step - loss: 0.1076 - accuracy: 0.9770 - val_loss: 0.9022 - val_accuracy: 0.8408\n",
      "Epoch 3/10\n",
      "40/40 [==============================] - 301s 8s/step - loss: 0.0874 - accuracy: 0.9818 - val_loss: 0.8904 - val_accuracy: 0.8333\n",
      "Epoch 4/10\n",
      "40/40 [==============================] - 287s 7s/step - loss: 0.0659 - accuracy: 0.9857 - val_loss: 0.7398 - val_accuracy: 0.8433\n",
      "Epoch 5/10\n",
      "40/40 [==============================] - 280s 7s/step - loss: 0.0591 - accuracy: 0.9897 - val_loss: 0.8416 - val_accuracy: 0.8433\n",
      "Epoch 6/10\n",
      "40/40 [==============================] - 280s 7s/step - loss: 0.0435 - accuracy: 0.9873 - val_loss: 0.9507 - val_accuracy: 0.8333\n",
      "Epoch 7/10\n",
      "40/40 [==============================] - 1405s 36s/step - loss: 0.0435 - accuracy: 0.9905 - val_loss: 0.8462 - val_accuracy: 0.8408\n",
      "Epoch 8/10\n",
      "40/40 [==============================] - 282s 7s/step - loss: 0.0311 - accuracy: 0.9905 - val_loss: 0.9834 - val_accuracy: 0.8358\n",
      "Epoch 9/10\n",
      "40/40 [==============================] - 300s 8s/step - loss: 0.0318 - accuracy: 0.9897 - val_loss: 0.8634 - val_accuracy: 0.8433\n",
      "Epoch 00009: early stopping\n"
     ]
    }
   ],
   "source": [
    "# Fit the model\n",
    "\n",
    "# To avoid overfitting, we will do an early stop if the loss substantially increases\n",
    "from tensorflow.keras.callbacks import EarlyStopping\n",
    "early_stop=EarlyStopping(monitor='val_loss',mode='min',verbose=1,patience=5)\n",
    "\n",
    "# train_y = train_y[1: len(train_y)]\n",
    "\n",
    "# fit the model\n",
    "history = model.fit(\n",
    "  train_x,\n",
    "  train_y,\n",
    "  validation_data=(val_x,val_y),\n",
    "  epochs=10,\n",
    "  callbacks=[early_stop],\n",
    "  batch_size=32,shuffle=True)"
   ]
  },
  {
   "cell_type": "code",
   "execution_count": 12,
   "id": "d24b7b6f",
   "metadata": {},
   "outputs": [
    {
     "data": {
      "image/png": "[encoded data removed]",
      "text/plain": [
       "<Figure size 432x288 with 1 Axes>"
      ]
     },
     "metadata": {
      "needs_background": "light"
     },
     "output_type": "display_data"
    }
   ],
   "source": [
    "# accuracies\n",
    "plt.plot(history.history['accuracy'], label='train acc')\n",
    "plt.plot(history.history['val_accuracy'], label='val acc')\n",
    "plt.legend()\n",
    "plt.show()"
   ]
  },
  {
   "cell_type": "code",
   "execution_count": 13,
   "id": "6284ed1a",
   "metadata": {},
   "outputs": [
    {
     "data": {
      "image/png": "[encoded data removed]",
      "text/plain": [
       "<Figure size 432x288 with 1 Axes>"
      ]
     },
     "metadata": {
      "needs_background": "light"
     },
     "output_type": "display_data"
    }
   ],
   "source": [
    "# Loss\n",
    "plt.plot(history.history['loss'], label='train loss')\n",
    "plt.plot(history.history['val_loss'], label='val loss')\n",
    "plt.legend()\n",
    "plt.show()"
   ]
  },
  {
   "cell_type": "code",
   "execution_count": 14,
   "id": "7e755dcd",
   "metadata": {},
   "outputs": [
    {
     "name": "stdout",
     "output_type": "stream",
     "text": [
      "17/17 [==============================] - 91s 5s/step - loss: 0.0320 - accuracy: 0.9962\n"
     ]
    },
    {
     "data": {
      "text/plain": [
       "[0.03204014524817467, 0.9961904883384705]"
      ]
     },
     "execution_count": 14,
     "metadata": {},
     "output_type": "execute_result"
    }
   ],
   "source": [
    "model.evaluate(test_x,test_y,batch_size=32)"
   ]
  },
  {
   "cell_type": "code",
   "execution_count": null,
   "id": "19dfa52f",
   "metadata": {},
   "outputs": [],
   "source": []
  }
 ],
 "metadata": {
  "kernelspec": {
   "display_name": "Python 3 (ipykernel)",
   "language": "python",
   "name": "python3"
  },
  "language_info": {
   "codemirror_mode": {
    "name": "ipython",
    "version": 3
   },
   "file_extension": ".py",
   "mimetype": "text/x-python",
   "name": "python",
   "nbconvert_exporter": "python",
   "pygments_lexer": "ipython3",
   "version": "3.8.2"
  }
 },
 "nbformat": 4,
 "nbformat_minor": 5
}
