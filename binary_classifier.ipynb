{
 "cells": [
  {
   "cell_type": "code",
   "execution_count": 1,
   "id": "06332ae6",
   "metadata": {},
   "outputs": [],
   "source": [
    "from tensorflow.keras.layers import Input, Lambda, Dense, Flatten,Dropout\n",
    "from tensorflow.keras.models import Model\n",
    "from tensorflow.keras.applications.vgg19 import VGG19\n",
    "from tensorflow.keras.applications.vgg19 import preprocess_input\n",
    "from tensorflow.keras.preprocessing import image\n",
    "from tensorflow.keras.preprocessing.image import ImageDataGenerator\n",
    "from tensorflow.keras.models import Sequential\n",
    "import numpy as np\n",
    "import pandas as pd\n",
    "import os\n",
    "import cv2\n",
    "import matplotlib.pyplot as plt"
   ]
  },
  {
   "cell_type": "code",
   "execution_count": 2,
   "id": "f4e7bcf7",
   "metadata": {},
   "outputs": [],
   "source": [
    "train_path=\"data/dv_data/train\"\n",
    "test_path=\"data/dv_data/test\"\n",
    "val_path=\"data/dv_data/val\""
   ]
  },
  {
   "cell_type": "code",
   "execution_count": 3,
   "id": "725f145b",
   "metadata": {},
   "outputs": [],
   "source": [
    "# Image preprocessing using VGG-19 model\n",
    "\n",
    "# resize images to 224x224 and store in array\n",
    "\n",
    "x_train=[]\n",
    "for folder in os.listdir(train_path):\n",
    "    if (folder != \".DS_Store\"):\n",
    "        sub_path=train_path+\"/\"+folder\n",
    "        for img in os.listdir(sub_path):\n",
    "            image_path=sub_path+\"/\"+img\n",
    "            img_arr=cv2.imread(image_path)\n",
    "            if img_arr is None:\n",
    "                continue\n",
    "            else:\n",
    "                img_arr=cv2.resize(img_arr,(224,224))\n",
    "                x_train.append(img_arr)\n",
    "\n",
    "x_test=[]\n",
    "for folder in os.listdir(test_path):\n",
    "    if (folder != \".DS_Store\"):\n",
    "        sub_path=test_path+\"/\"+folder\n",
    "        for img in os.listdir(sub_path):\n",
    "            image_path=sub_path+\"/\"+img\n",
    "            img_arr=cv2.imread(image_path)\n",
    "            if img_arr is None:\n",
    "                continue\n",
    "            else:\n",
    "                img_arr=cv2.resize(img_arr,(224,224))\n",
    "                x_test.append(img_arr)\n",
    "                \n",
    "x_val=[]\n",
    "for folder in os.listdir(val_path):\n",
    "    if (folder != \".DS_Store\"):\n",
    "        sub_path=val_path+\"/\"+folder\n",
    "        for img in os.listdir(sub_path):\n",
    "            image_path=sub_path+\"/\"+img\n",
    "            img_arr=cv2.imread(image_path)\n",
    "            if img_arr is None:\n",
    "                continue\n",
    "            else:\n",
    "                img_arr=cv2.resize(img_arr,(224,224))\n",
    "                x_val.append(img_arr)\n",
    "                "
   ]
  },
  {
   "cell_type": "code",
   "execution_count": 4,
   "id": "4a455f04",
   "metadata": {},
   "outputs": [],
   "source": [
    "# divide by 255 to normalize\n",
    "train_x=np.array(x_train)/255.0\n",
    "test_x=np.array(x_test)/255.0\n",
    "val_x=np.array(x_val)/255.0\n"
   ]
  },
  {
   "cell_type": "code",
   "execution_count": 5,
   "id": "5586047a",
   "metadata": {},
   "outputs": [
    {
     "name": "stdout",
     "output_type": "stream",
     "text": [
      "Found 162 images belonging to 3 classes.\n",
      "Found 52 images belonging to 3 classes.\n",
      "Found 38 images belonging to 3 classes.\n"
     ]
    }
   ],
   "source": [
    "# Compute labels of corresponding datasets\n",
    "train_datagen = ImageDataGenerator(rescale = 1./255)\n",
    "test_datagen = ImageDataGenerator(rescale = 1./255)\n",
    "val_datagen = ImageDataGenerator(rescale = 1./255)\n",
    "\n",
    "# generate batches of augmented data\n",
    "training_set = train_datagen.flow_from_directory(train_path,\n",
    "                                                 target_size = (224, 224),\n",
    "                                                 batch_size = 32,\n",
    "                                                 class_mode = 'sparse')\n",
    "test_set = test_datagen.flow_from_directory(test_path,\n",
    "                                            target_size = (224, 224),\n",
    "                                            batch_size = 32,\n",
    "                                            class_mode = 'sparse')\n",
    "val_set = val_datagen.flow_from_directory(val_path,\n",
    "                                            target_size = (224, 224),\n",
    "                                            batch_size = 32,\n",
    "                                            class_mode = 'sparse')"
   ]
  },
  {
   "cell_type": "code",
   "execution_count": 6,
   "id": "8c46a051",
   "metadata": {},
   "outputs": [],
   "source": [
    "train_y=training_set.classes\n",
    "test_y=test_set.classes\n",
    "val_y=val_set.classes"
   ]
  },
  {
   "cell_type": "code",
   "execution_count": 7,
   "id": "accee4ee",
   "metadata": {},
   "outputs": [
    {
     "data": {
      "text/plain": [
       "((162,), (52,), (38,))"
      ]
     },
     "execution_count": 7,
     "metadata": {},
     "output_type": "execute_result"
    }
   ],
   "source": [
    "training_set.class_indices\n",
    "train_y.shape,test_y.shape,val_y.shape"
   ]
  },
  {
   "cell_type": "code",
   "execution_count": 8,
   "id": "10bd35d1",
   "metadata": {},
   "outputs": [
    {
     "name": "stderr",
     "output_type": "stream",
     "text": [
      "2021-12-22 10:43:37.067077: I tensorflow/core/platform/cpu_feature_guard.cc:142] This TensorFlow binary is optimized with oneAPI Deep Neural Network Library (oneDNN) to use the following CPU instructions in performance-critical operations:  AVX2 FMA\n",
      "To enable them in other operations, rebuild TensorFlow with the appropriate compiler flags.\n"
     ]
    }
   ],
   "source": [
    "# Model Building\n",
    "vgg = VGG19(input_shape=(224, 224, 3), weights='imagenet', include_top=False)\n",
    "\n",
    "# We will not train the pre-trained layers\n",
    "for layer in vgg.layers:\n",
    "    layer.trainable = False"
   ]
  },
  {
   "cell_type": "code",
   "execution_count": 9,
   "id": "06551204",
   "metadata": {},
   "outputs": [
    {
     "name": "stdout",
     "output_type": "stream",
     "text": [
      "Model: \"model\"\n",
      "_________________________________________________________________\n",
      "Layer (type)                 Output Shape              Param #   \n",
      "=================================================================\n",
      "input_1 (InputLayer)         [(None, 224, 224, 3)]     0         \n",
      "_________________________________________________________________\n",
      "block1_conv1 (Conv2D)        (None, 224, 224, 64)      1792      \n",
      "_________________________________________________________________\n",
      "block1_conv2 (Conv2D)        (None, 224, 224, 64)      36928     \n",
      "_________________________________________________________________\n",
      "block1_pool (MaxPooling2D)   (None, 112, 112, 64)      0         \n",
      "_________________________________________________________________\n",
      "block2_conv1 (Conv2D)        (None, 112, 112, 128)     73856     \n",
      "_________________________________________________________________\n",
      "block2_conv2 (Conv2D)        (None, 112, 112, 128)     147584    \n",
      "_________________________________________________________________\n",
      "block2_pool (MaxPooling2D)   (None, 56, 56, 128)       0         \n",
      "_________________________________________________________________\n",
      "block3_conv1 (Conv2D)        (None, 56, 56, 256)       295168    \n",
      "_________________________________________________________________\n",
      "block3_conv2 (Conv2D)        (None, 56, 56, 256)       590080    \n",
      "_________________________________________________________________\n",
      "block3_conv3 (Conv2D)        (None, 56, 56, 256)       590080    \n",
      "_________________________________________________________________\n",
      "block3_conv4 (Conv2D)        (None, 56, 56, 256)       590080    \n",
      "_________________________________________________________________\n",
      "block3_pool (MaxPooling2D)   (None, 28, 28, 256)       0         \n",
      "_________________________________________________________________\n",
      "block4_conv1 (Conv2D)        (None, 28, 28, 512)       1180160   \n",
      "_________________________________________________________________\n",
      "block4_conv2 (Conv2D)        (None, 28, 28, 512)       2359808   \n",
      "_________________________________________________________________\n",
      "block4_conv3 (Conv2D)        (None, 28, 28, 512)       2359808   \n",
      "_________________________________________________________________\n",
      "block4_conv4 (Conv2D)        (None, 28, 28, 512)       2359808   \n",
      "_________________________________________________________________\n",
      "block4_pool (MaxPooling2D)   (None, 14, 14, 512)       0         \n",
      "_________________________________________________________________\n",
      "block5_conv1 (Conv2D)        (None, 14, 14, 512)       2359808   \n",
      "_________________________________________________________________\n",
      "block5_conv2 (Conv2D)        (None, 14, 14, 512)       2359808   \n",
      "_________________________________________________________________\n",
      "block5_conv3 (Conv2D)        (None, 14, 14, 512)       2359808   \n",
      "_________________________________________________________________\n",
      "block5_conv4 (Conv2D)        (None, 14, 14, 512)       2359808   \n",
      "_________________________________________________________________\n",
      "block5_pool (MaxPooling2D)   (None, 7, 7, 512)         0         \n",
      "_________________________________________________________________\n",
      "flatten (Flatten)            (None, 25088)             0         \n",
      "_________________________________________________________________\n",
      "dense (Dense)                (None, 3)                 75267     \n",
      "=================================================================\n",
      "Total params: 20,099,651\n",
      "Trainable params: 75,267\n",
      "Non-trainable params: 20,024,384\n",
      "_________________________________________________________________\n"
     ]
    }
   ],
   "source": [
    "x = Flatten()(vgg.output)\n",
    "#adding output layer.Softmax classifier is used as it is multi-class classification\n",
    "prediction = Dense(3, activation='softmax')(x)\n",
    "\n",
    "model = Model(inputs=vgg.input, outputs=prediction)\n",
    "model.summary()"
   ]
  },
  {
   "cell_type": "code",
   "execution_count": 10,
   "id": "35c36890",
   "metadata": {},
   "outputs": [],
   "source": [
    "# Compile the model\n",
    "model.compile(\n",
    "  loss='sparse_categorical_crossentropy',\n",
    "  optimizer=\"adam\",\n",
    "  metrics=['accuracy']\n",
    ")"
   ]
  },
  {
   "cell_type": "code",
   "execution_count": 11,
   "id": "f60257df",
   "metadata": {},
   "outputs": [
    {
     "name": "stderr",
     "output_type": "stream",
     "text": [
      "2021-12-22 10:43:37.709332: I tensorflow/compiler/mlir/mlir_graph_optimization_pass.cc:185] None of the MLIR Optimization Passes are enabled (registered 2)\n"
     ]
    },
    {
     "name": "stdout",
     "output_type": "stream",
     "text": [
      "Epoch 1/10\n",
      "5/5 [==============================] - 40s 8s/step - loss: 2.3867 - accuracy: 0.3500 - val_loss: 2.4678 - val_accuracy: 0.4211\n",
      "Epoch 2/10\n",
      "5/5 [==============================] - 33s 7s/step - loss: 2.4885 - accuracy: 0.4812 - val_loss: 1.9266 - val_accuracy: 0.4737\n",
      "Epoch 3/10\n",
      "5/5 [==============================] - 33s 7s/step - loss: 1.4177 - accuracy: 0.3750 - val_loss: 1.0788 - val_accuracy: 0.4737\n",
      "Epoch 4/10\n",
      "5/5 [==============================] - 33s 7s/step - loss: 1.0410 - accuracy: 0.6750 - val_loss: 1.5205 - val_accuracy: 0.4737\n",
      "Epoch 5/10\n",
      "5/5 [==============================] - 38s 8s/step - loss: 0.7621 - accuracy: 0.7375 - val_loss: 1.3630 - val_accuracy: 0.3947\n",
      "Epoch 6/10\n",
      "5/5 [==============================] - 35s 7s/step - loss: 0.6440 - accuracy: 0.7563 - val_loss: 1.1951 - val_accuracy: 0.4474\n",
      "Epoch 7/10\n",
      "5/5 [==============================] - 36s 8s/step - loss: 0.5175 - accuracy: 0.8125 - val_loss: 1.3141 - val_accuracy: 0.3947\n",
      "Epoch 8/10\n",
      "5/5 [==============================] - 39s 8s/step - loss: 0.4757 - accuracy: 0.8375 - val_loss: 1.1191 - val_accuracy: 0.4737\n",
      "Epoch 00008: early stopping\n"
     ]
    }
   ],
   "source": [
    "# Fit the model\n",
    "\n",
    "# To avoid overfitting, we will do an early stop if the loss substantially increases\n",
    "from tensorflow.keras.callbacks import EarlyStopping\n",
    "early_stop=EarlyStopping(monitor='val_loss',mode='min',verbose=1,patience=5)\n",
    "\n",
    "train_y = train_y[1: len(train_y) - 1]\n",
    "\n",
    "# fit the model\n",
    "history = model.fit(\n",
    "  train_x,\n",
    "  train_y,\n",
    "  validation_data=(val_x,val_y),\n",
    "  epochs=10,\n",
    "  callbacks=[early_stop],\n",
    "  batch_size=32,shuffle=True)"
   ]
  },
  {
   "cell_type": "code",
   "execution_count": 12,
   "id": "d24b7b6f",
   "metadata": {},
   "outputs": [
    {
     "data": {
      "image/png": "[encoded data removed]",
      "text/plain": [
       "<Figure size 432x288 with 1 Axes>"
      ]
     },
     "metadata": {
      "needs_background": "light"
     },
     "output_type": "display_data"
    }
   ],
   "source": [
    "# accuracies\n",
    "plt.plot(history.history['accuracy'], label='train acc')\n",
    "plt.plot(history.history['val_accuracy'], label='val acc')\n",
    "plt.legend()\n",
    "plt.show()"
   ]
  },
  {
   "cell_type": "code",
   "execution_count": 13,
   "id": "6284ed1a",
   "metadata": {},
   "outputs": [
    {
     "data": {
      "image/png": "[encoded data removed]",
      "text/plain": [
       "<Figure size 432x288 with 1 Axes>"
      ]
     },
     "metadata": {
      "needs_background": "light"
     },
     "output_type": "display_data"
    }
   ],
   "source": [
    "# Loss\n",
    "plt.plot(history.history['loss'], label='train loss')\n",
    "plt.plot(history.history['val_loss'], label='val loss')\n",
    "plt.legend()\n",
    "plt.show()"
   ]
  },
  {
   "cell_type": "code",
   "execution_count": 14,
   "id": "7e755dcd",
   "metadata": {},
   "outputs": [
    {
     "name": "stdout",
     "output_type": "stream",
     "text": [
      "2/2 [==============================] - 7s 3s/step - loss: 1.5584 - accuracy: 0.4423\n"
     ]
    },
    {
     "data": {
      "text/plain": [
       "[1.5583980083465576, 0.4423076808452606]"
      ]
     },
     "execution_count": 14,
     "metadata": {},
     "output_type": "execute_result"
    }
   ],
   "source": [
    "model.evaluate(test_x,test_y,batch_size=32)"
   ]
  }
 ],
 "metadata": {
  "kernelspec": {
   "display_name": "Python 3 (ipykernel)",
   "language": "python",
   "name": "python3"
  },
  "language_info": {
   "codemirror_mode": {
    "name": "ipython",
    "version": 3
   },
   "file_extension": ".py",
   "mimetype": "text/x-python",
   "name": "python",
   "nbconvert_exporter": "python",
   "pygments_lexer": "ipython3",
   "version": "3.8.2"
  }
 },
 "nbformat": 4,
 "nbformat_minor": 5
}
